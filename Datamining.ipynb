{
  "nbformat": 4,
  "nbformat_minor": 0,
  "metadata": {
    "colab": {
      "name": "Datamining.ipynb",
      "provenance": [],
      "collapsed_sections": []
    },
    "kernelspec": {
      "name": "python3",
      "display_name": "Python 3"
    }
  },
  "cells": [
    {
      "cell_type": "code",
      "metadata": {
        "id": "S4Ei_UMa71UL"
      },
      "source": [
        "import numpy as np\n",
        "import matplotlib as plt\n",
        "import pandas as pd"
      ],
      "execution_count": null,
      "outputs": []
    },
    {
      "cell_type": "code",
      "metadata": {
        "id": "A6PrfSkc85ni"
      },
      "source": [
        "dataset = pd.read_csv('Datasheet.csv')\n",
        "x = dataset.iloc[:, :-1].values\n",
        "y = dataset.iloc[:, -1].values"
      ],
      "execution_count": null,
      "outputs": []
    },
    {
      "cell_type": "code",
      "metadata": {
        "colab": {
          "base_uri": "https://localhost:8080/"
        },
        "id": "E2OYstFt9w8e",
        "outputId": "144b86de-8d21-4232-a262-fac6de37d32e"
      },
      "source": [
        "print(x)"
      ],
      "execution_count": null,
      "outputs": [
        {
          "output_type": "stream",
          "text": [
            "[['Alex Mason' 123.0 35.0]\n",
            " ['Woods' 100.0 25.0]\n",
            " ['Ghost' 90.0 27.0]\n",
            " ['Kyle Rlley' 90.0 32.0]\n",
            " ['Woods' 40.0 nan]\n",
            " ['Alex Winston' 10.0 30.0]\n",
            " ['Ghost' nan 30.0]\n",
            " ['McMillan' 200.0 47.0]\n",
            " ['Trevor Noah' 30.0 21.0]\n",
            " ['Hudson' 40.0 40.0]]\n"
          ],
          "name": "stdout"
        }
      ]
    },
    {
      "cell_type": "code",
      "metadata": {
        "colab": {
          "base_uri": "https://localhost:8080/"
        },
        "id": "g2BJXXC2-WLC",
        "outputId": "f539e29d-2678-4eea-9eb0-aac0c37ae47f"
      },
      "source": [
        "print(y)"
      ],
      "execution_count": null,
      "outputs": [
        {
          "output_type": "stream",
          "text": [
            "['Active' 'Active' 'KIA' 'KIA' 'KIA' 'Active' 'Active' 'Active' 'Active'\n",
            " 'Active']\n"
          ],
          "name": "stdout"
        }
      ]
    },
    {
      "cell_type": "code",
      "metadata": {
        "id": "rmFDwKHc_-KK"
      },
      "source": [
        "from sklearn.impute import SimpleImputer\n",
        "impute = SimpleImputer(missing_values=np.nan, strategy='mean')\n",
        "impute.fit(x[:, 1:3])\n",
        "x[:, 1:3] = impute.transform(x[:, 1:3])"
      ],
      "execution_count": null,
      "outputs": []
    },
    {
      "cell_type": "code",
      "metadata": {
        "colab": {
          "base_uri": "https://localhost:8080/"
        },
        "id": "FZmq87Q3T3fN",
        "outputId": "e9592513-ee0e-48ce-961e-7d7c033a446e"
      },
      "source": [
        "print(x)"
      ],
      "execution_count": null,
      "outputs": [
        {
          "output_type": "stream",
          "text": [
            "[['Alex Mason' 123.0 35.0]\n",
            " ['Woods' 100.0 25.0]\n",
            " ['Ghost' 90.0 27.0]\n",
            " ['Kyle Rlley' 90.0 32.0]\n",
            " ['Woods' 40.0 31.88888888888889]\n",
            " ['Alex Winston' 10.0 30.0]\n",
            " ['Ghost' 80.33333333333333 30.0]\n",
            " ['McMillan' 200.0 47.0]\n",
            " ['Trevor Noah' 30.0 21.0]\n",
            " ['Hudson' 40.0 40.0]]\n"
          ],
          "name": "stdout"
        }
      ]
    },
    {
      "cell_type": "code",
      "metadata": {
        "id": "77hyYlMPT-kV"
      },
      "source": [
        "from sklearn.compose import ColumnTransformer\n",
        "from sklearn.preprocessing import OneHotEncoder\n",
        "ct = ColumnTransformer(transformers=[('encoder', OneHotEncoder(), [0])], remainder='passthrough')\n",
        "x = np.array(ct.fit_transform(x))"
      ],
      "execution_count": null,
      "outputs": []
    },
    {
      "cell_type": "code",
      "metadata": {
        "colab": {
          "base_uri": "https://localhost:8080/"
        },
        "id": "cvIAr8gRUGDV",
        "outputId": "56c4e513-d5ea-43de-e822-98f14da44f61"
      },
      "source": [
        "print(x)"
      ],
      "execution_count": null,
      "outputs": [
        {
          "output_type": "stream",
          "text": [
            "[[1.0 0.0 0.0 0.0 0.0 0.0 0.0 0.0 123.0 35.0]\n",
            " [0.0 0.0 0.0 0.0 0.0 0.0 0.0 1.0 100.0 25.0]\n",
            " [0.0 0.0 1.0 0.0 0.0 0.0 0.0 0.0 90.0 27.0]\n",
            " [0.0 0.0 0.0 0.0 1.0 0.0 0.0 0.0 90.0 32.0]\n",
            " [0.0 0.0 0.0 0.0 0.0 0.0 0.0 1.0 40.0 31.88888888888889]\n",
            " [0.0 1.0 0.0 0.0 0.0 0.0 0.0 0.0 10.0 30.0]\n",
            " [0.0 0.0 1.0 0.0 0.0 0.0 0.0 0.0 80.33333333333333 30.0]\n",
            " [0.0 0.0 0.0 0.0 0.0 1.0 0.0 0.0 200.0 47.0]\n",
            " [0.0 0.0 0.0 0.0 0.0 0.0 1.0 0.0 30.0 21.0]\n",
            " [0.0 0.0 0.0 1.0 0.0 0.0 0.0 0.0 40.0 40.0]]\n"
          ],
          "name": "stdout"
        }
      ]
    },
    {
      "cell_type": "code",
      "metadata": {
        "id": "ltxcjQOnUHwt"
      },
      "source": [
        "from sklearn.preprocessing import LabelEncoder\n",
        "le = LabelEncoder()\n",
        "y = le.fit_transform(y)"
      ],
      "execution_count": null,
      "outputs": []
    },
    {
      "cell_type": "code",
      "metadata": {
        "colab": {
          "base_uri": "https://localhost:8080/"
        },
        "id": "RsyPdi75UKR1",
        "outputId": "7b003264-034a-4976-a8a8-cace3a2042ad"
      },
      "source": [
        "print(y)"
      ],
      "execution_count": null,
      "outputs": [
        {
          "output_type": "stream",
          "text": [
            "[0 0 1 1 1 0 0 0 0 0]\n"
          ],
          "name": "stdout"
        }
      ]
    },
    {
      "cell_type": "code",
      "metadata": {
        "id": "Mh4GD724UMg9"
      },
      "source": [
        "from sklearn.model_selection import train_test_split\n",
        "x_train, x_test, y_train, y_test = train_test_split(x, y, test_size=0.2, random_state=1)"
      ],
      "execution_count": null,
      "outputs": []
    },
    {
      "cell_type": "code",
      "metadata": {
        "colab": {
          "base_uri": "https://localhost:8080/"
        },
        "id": "3e9-IW-tUPud",
        "outputId": "d1ce74d7-412f-4c71-e29f-a51e1cff15e5"
      },
      "source": [
        "print(x_train)"
      ],
      "execution_count": null,
      "outputs": [
        {
          "output_type": "stream",
          "text": [
            "[[0.0 0.0 1.0 0.0 0.0 0.0 0.0 0.0 80.33333333333333 30.0]\n",
            " [0.0 0.0 0.0 0.0 0.0 0.0 0.0 1.0 40.0 31.88888888888889]\n",
            " [1.0 0.0 0.0 0.0 0.0 0.0 0.0 0.0 123.0 35.0]\n",
            " [0.0 0.0 0.0 0.0 1.0 0.0 0.0 0.0 90.0 32.0]\n",
            " [0.0 0.0 0.0 0.0 0.0 0.0 0.0 1.0 100.0 25.0]\n",
            " [0.0 0.0 0.0 0.0 0.0 1.0 0.0 0.0 200.0 47.0]\n",
            " [0.0 0.0 0.0 0.0 0.0 0.0 1.0 0.0 30.0 21.0]\n",
            " [0.0 1.0 0.0 0.0 0.0 0.0 0.0 0.0 10.0 30.0]]\n"
          ],
          "name": "stdout"
        }
      ]
    },
    {
      "cell_type": "code",
      "metadata": {
        "colab": {
          "base_uri": "https://localhost:8080/"
        },
        "id": "sMy8CpUiURf9",
        "outputId": "d2599d69-dba8-42b6-b29e-7ab32d13f7a6"
      },
      "source": [
        "print(x_test)"
      ],
      "execution_count": null,
      "outputs": [
        {
          "output_type": "stream",
          "text": [
            "[[0.0 0.0 1.0 0.0 0.0 0.0 0.0 0.0 90.0 27.0]\n",
            " [0.0 0.0 0.0 1.0 0.0 0.0 0.0 0.0 40.0 40.0]]\n"
          ],
          "name": "stdout"
        }
      ]
    },
    {
      "cell_type": "code",
      "metadata": {
        "colab": {
          "base_uri": "https://localhost:8080/"
        },
        "id": "IUgnmMRoUUMc",
        "outputId": "5261424a-4cfd-4365-eaf7-2194543be336"
      },
      "source": [
        "print(y_train)"
      ],
      "execution_count": null,
      "outputs": [
        {
          "output_type": "stream",
          "text": [
            "[0 1 0 1 0 0 0 0]\n"
          ],
          "name": "stdout"
        }
      ]
    },
    {
      "cell_type": "code",
      "metadata": {
        "colab": {
          "base_uri": "https://localhost:8080/"
        },
        "id": "TP-mjb_mUV-N",
        "outputId": "4e9e69dd-1550-4594-d54a-04c9001e6ca9"
      },
      "source": [
        "print(y_test)"
      ],
      "execution_count": null,
      "outputs": [
        {
          "output_type": "stream",
          "text": [
            "[1 0]\n"
          ],
          "name": "stdout"
        }
      ]
    },
    {
      "cell_type": "code",
      "metadata": {
        "id": "BUXVF3xCUXbV"
      },
      "source": [
        "from sklearn.preprocessing import StandardScaler\n",
        "sc = StandardScaler()\n",
        "x_train[:, 3:] = sc.fit_transform(x_train[:, 3:])\n",
        "x_test[:, 3:] = sc.transform(x_test[:, 3:])"
      ],
      "execution_count": null,
      "outputs": []
    },
    {
      "cell_type": "code",
      "metadata": {
        "colab": {
          "base_uri": "https://localhost:8080/"
        },
        "id": "PG0v1w7aUZzV",
        "outputId": "6b505f47-b048-4f40-f380-f30c859519dc"
      },
      "source": [
        "print(x_train)"
      ],
      "execution_count": null,
      "outputs": [
        {
          "output_type": "stream",
          "text": [
            "[[0.0 0.0 1.0 0.0 -0.3779644730092272 -0.3779644730092272\n",
            "  -0.3779644730092272 -0.5773502691896258 -0.06775087456345437\n",
            "  -0.2076144031037063]\n",
            " [0.0 0.0 0.0 0.0 -0.3779644730092272 -0.3779644730092272\n",
            "  -0.3779644730092272 1.7320508075688774 -0.7806079025789316\n",
            "  0.05626932420567753]\n",
            " [1.0 0.0 0.0 0.0 -0.3779644730092272 -0.3779644730092272\n",
            "  -0.3779644730092272 -0.5773502691896258 0.686345816229778\n",
            "  0.49090134565642723]\n",
            " [0.0 0.0 0.0 0.0 2.6457513110645903 -0.3779644730092272\n",
            "  -0.3779644730092272 -0.5773502691896258 0.10309915694438739\n",
            "  0.07179189640034711]\n",
            " [0.0 0.0 0.0 0.0 -0.3779644730092272 -0.3779644730092272\n",
            "  -0.3779644730092272 1.7320508075688774 0.2798405688490512\n",
            "  -0.9061301518638398]\n",
            " [0.0 0.0 0.0 0.0 -0.3779644730092272 2.6457513110645903\n",
            "  -0.3779644730092272 -0.5773502691896258 2.047254687895689\n",
            "  2.167339142680748]\n",
            " [0.0 0.0 0.0 0.0 -0.3779644730092272 -0.3779644730092272\n",
            "  2.6457513110645903 -0.5773502691896258 -0.9573493144835954\n",
            "  -1.4649427508719468]\n",
            " [0.0 1.0 0.0 0.0 -0.3779644730092272 -0.3779644730092272\n",
            "  -0.3779644730092272 -0.5773502691896258 -1.310832138292923\n",
            "  -0.2076144031037063]]\n"
          ],
          "name": "stdout"
        }
      ]
    },
    {
      "cell_type": "code",
      "metadata": {
        "colab": {
          "base_uri": "https://localhost:8080/"
        },
        "id": "kfsz5NGvUcN9",
        "outputId": "f8717a68-5d7c-42a4-8737-a57f0bc02c78"
      },
      "source": [
        "print(x_test)"
      ],
      "execution_count": null,
      "outputs": [
        {
          "output_type": "stream",
          "text": [
            "[[0.0 0.0 1.0 0.0 -0.3779644730092272 -0.3779644730092272\n",
            "  -0.3779644730092272 -0.5773502691896258 0.10309915694438739\n",
            "  -0.6267238523597864]\n",
            " [0.0 0.0 0.0 1.0 -0.3779644730092272 -0.3779644730092272\n",
            "  -0.3779644730092272 -0.5773502691896258 -0.7806079025789316\n",
            "  1.1894170944165607]]\n"
          ],
          "name": "stdout"
        }
      ]
    }
  ]
}